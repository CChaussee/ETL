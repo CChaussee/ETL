{
 "cells": [
  {
   "cell_type": "code",
   "execution_count": 7,
   "id": "successful-round",
   "metadata": {},
   "outputs": [],
   "source": [
    "import pymongo\n",
    "import pandas as pd"
   ]
  },
  {
   "cell_type": "markdown",
   "id": "moved-killing",
   "metadata": {},
   "source": [
    "# Connect to Mongo data base"
   ]
  },
  {
   "cell_type": "code",
   "execution_count": 8,
   "id": "piano-peninsula",
   "metadata": {},
   "outputs": [],
   "source": [
    "conn = \"mongodb://localhost:27017\"\n",
    "client = pymongo.MongoClient(conn)"
   ]
  },
  {
   "cell_type": "code",
   "execution_count": 9,
   "id": "tight-jesus",
   "metadata": {},
   "outputs": [],
   "source": [
    "db = client.species_db\n",
    "db.species.drop()"
   ]
  },
  {
   "cell_type": "markdown",
   "id": "aggregate-bidder",
   "metadata": {},
   "source": [
    "## Read in Species CSV"
   ]
  },
  {
   "cell_type": "code",
   "execution_count": 10,
   "id": "ecological-barcelona",
   "metadata": {},
   "outputs": [
    {
     "name": "stderr",
     "output_type": "stream",
     "text": [
      "c:\\users\\lauren\\anaconda3\\envs\\pythondata2\\lib\\site-packages\\IPython\\core\\interactiveshell.py:3072: DtypeWarning: Columns (13) have mixed types.Specify dtype option on import or set low_memory=False.\n",
      "  interactivity=interactivity, compiler=compiler, result=result)\n"
     ]
    },
    {
     "data": {
      "text/html": [
       "<div>\n",
       "<style scoped>\n",
       "    .dataframe tbody tr th:only-of-type {\n",
       "        vertical-align: middle;\n",
       "    }\n",
       "\n",
       "    .dataframe tbody tr th {\n",
       "        vertical-align: top;\n",
       "    }\n",
       "\n",
       "    .dataframe thead th {\n",
       "        text-align: right;\n",
       "    }\n",
       "</style>\n",
       "<table border=\"1\" class=\"dataframe\">\n",
       "  <thead>\n",
       "    <tr style=\"text-align: right;\">\n",
       "      <th></th>\n",
       "      <th>Park Name</th>\n",
       "      <th>Category</th>\n",
       "      <th>Scientific Name</th>\n",
       "      <th>Common Names</th>\n",
       "      <th>Nativeness</th>\n",
       "      <th>Abundance</th>\n",
       "      <th>Conservation Status</th>\n",
       "    </tr>\n",
       "  </thead>\n",
       "  <tbody>\n",
       "    <tr>\n",
       "      <th>0</th>\n",
       "      <td>Acadia National Park</td>\n",
       "      <td>Mammal</td>\n",
       "      <td>Alces alces</td>\n",
       "      <td>Moose</td>\n",
       "      <td>Native</td>\n",
       "      <td>Rare</td>\n",
       "      <td>NaN</td>\n",
       "    </tr>\n",
       "    <tr>\n",
       "      <th>1</th>\n",
       "      <td>Acadia National Park</td>\n",
       "      <td>Mammal</td>\n",
       "      <td>Odocoileus virginianus</td>\n",
       "      <td>Northern White-Tailed Deer, Virginia Deer, Whi...</td>\n",
       "      <td>Native</td>\n",
       "      <td>Abundant</td>\n",
       "      <td>NaN</td>\n",
       "    </tr>\n",
       "    <tr>\n",
       "      <th>2</th>\n",
       "      <td>Acadia National Park</td>\n",
       "      <td>Mammal</td>\n",
       "      <td>Canis latrans</td>\n",
       "      <td>Coyote, Eastern Coyote</td>\n",
       "      <td>Not Native</td>\n",
       "      <td>Common</td>\n",
       "      <td>Species of Concern</td>\n",
       "    </tr>\n",
       "    <tr>\n",
       "      <th>3</th>\n",
       "      <td>Acadia National Park</td>\n",
       "      <td>Mammal</td>\n",
       "      <td>Canis lupus</td>\n",
       "      <td>Eastern Timber Wolf, Gray Wolf, Timber Wolf</td>\n",
       "      <td>Native</td>\n",
       "      <td>NaN</td>\n",
       "      <td>Endangered</td>\n",
       "    </tr>\n",
       "    <tr>\n",
       "      <th>4</th>\n",
       "      <td>Acadia National Park</td>\n",
       "      <td>Mammal</td>\n",
       "      <td>Vulpes vulpes</td>\n",
       "      <td>Black Fox, Cross Fox, Eastern Red Fox, Fox, Re...</td>\n",
       "      <td>Unknown</td>\n",
       "      <td>Common</td>\n",
       "      <td>NaN</td>\n",
       "    </tr>\n",
       "  </tbody>\n",
       "</table>\n",
       "</div>"
      ],
      "text/plain": [
       "              Park Name Category         Scientific Name  \\\n",
       "0  Acadia National Park   Mammal             Alces alces   \n",
       "1  Acadia National Park   Mammal  Odocoileus virginianus   \n",
       "2  Acadia National Park   Mammal           Canis latrans   \n",
       "3  Acadia National Park   Mammal             Canis lupus   \n",
       "4  Acadia National Park   Mammal           Vulpes vulpes   \n",
       "\n",
       "                                        Common Names  Nativeness Abundance  \\\n",
       "0                                              Moose      Native      Rare   \n",
       "1  Northern White-Tailed Deer, Virginia Deer, Whi...      Native  Abundant   \n",
       "2                             Coyote, Eastern Coyote  Not Native    Common   \n",
       "3        Eastern Timber Wolf, Gray Wolf, Timber Wolf      Native       NaN   \n",
       "4  Black Fox, Cross Fox, Eastern Red Fox, Fox, Re...     Unknown    Common   \n",
       "\n",
       "  Conservation Status  \n",
       "0                 NaN  \n",
       "1                 NaN  \n",
       "2  Species of Concern  \n",
       "3          Endangered  \n",
       "4                 NaN  "
      ]
     },
     "execution_count": 10,
     "metadata": {},
     "output_type": "execute_result"
    }
   ],
   "source": [
    "species_csv_file = \"Resources/species.csv\"\n",
    "species_csv = pd.read_csv(species_csv_file)\n",
    "cleaned_species_csv = species_csv[[\"Park Name\",\"Category\",\"Scientific Name\", \"Common Names\", \"Nativeness\", \"Abundance\", \"Conservation Status\"]]\n",
    "cleaned_species_csv.head()"
   ]
  },
  {
   "cell_type": "markdown",
   "id": "pleasant-resistance",
   "metadata": {},
   "source": [
    "### Create list of dictionaries to export to Mongo\n",
    "* Pulled park name, category, scientific name, common names, nativeness, abundance, and conservation status to create key value pairs within a dictionary to append to list and insert into Mongo database."
   ]
  },
  {
   "cell_type": "code",
   "execution_count": 11,
   "id": "final-actor",
   "metadata": {},
   "outputs": [
    {
     "data": {
      "text/plain": [
       "<pymongo.results.InsertManyResult at 0x20197367308>"
      ]
     },
     "execution_count": 11,
     "metadata": {},
     "output_type": "execute_result"
    }
   ],
   "source": [
    "species_output = []\n",
    "for index, row in species_csv.iterrows():\n",
    "    post={'park_name': str(row[\"Park Name\"]),\n",
    "         'category': str(row[\"Category\"]),\n",
    "         'scientific_name': str(row[\"Scientific Name\"]),\n",
    "         'common_names': str(row[\"Common Names\"]),\n",
    "         'nativeness': str(row[\"Nativeness\"]),\n",
    "         'abundance': str(row[\"Abundance\"]),\n",
    "         'conservation_status': str(row[\"Conservation Status\"])}\n",
    "    species_output.append(post)\n",
    "    \n",
    "db.species.insert_many(species_output)"
   ]
  },
  {
   "cell_type": "code",
   "execution_count": null,
   "id": "unlike-luther",
   "metadata": {},
   "outputs": [],
   "source": []
  }
 ],
 "metadata": {
  "kernelspec": {
   "display_name": "Python 3",
   "language": "python",
   "name": "python3"
  },
  "language_info": {
   "codemirror_mode": {
    "name": "ipython",
    "version": 3
   },
   "file_extension": ".py",
   "mimetype": "text/x-python",
   "name": "python",
   "nbconvert_exporter": "python",
   "pygments_lexer": "ipython3",
   "version": "3.6.10"
  }
 },
 "nbformat": 4,
 "nbformat_minor": 5
}
