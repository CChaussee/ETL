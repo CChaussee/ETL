{
 "cells": [
  {
   "cell_type": "code",
   "execution_count": 7,
   "id": "dressed-sustainability",
   "metadata": {},
   "outputs": [
    {
     "ename": "ImportError",
     "evalue": "cannot import name 'MongoJoin'",
     "output_type": "error",
     "traceback": [
      "\u001b[1;31m---------------------------------------------------------------------------\u001b[0m",
      "\u001b[1;31mImportError\u001b[0m                               Traceback (most recent call last)",
      "\u001b[1;32m<ipython-input-7-6c5df1f917ef>\u001b[0m in \u001b[0;36m<module>\u001b[1;34m\u001b[0m\n\u001b[1;32m----> 1\u001b[1;33m \u001b[1;32mfrom\u001b[0m \u001b[0mmongojoin\u001b[0m \u001b[1;32mimport\u001b[0m \u001b[0mMongoJoin\u001b[0m\u001b[1;33m\u001b[0m\u001b[1;33m\u001b[0m\u001b[0m\n\u001b[0m\u001b[0;32m      2\u001b[0m \u001b[1;32mfrom\u001b[0m \u001b[0mmongojoin\u001b[0m \u001b[1;32mimport\u001b[0m \u001b[0mMongoCollection\u001b[0m\u001b[1;33m\u001b[0m\u001b[1;33m\u001b[0m\u001b[0m\n",
      "\u001b[1;31mImportError\u001b[0m: cannot import name 'MongoJoin'"
     ]
    }
   ],
   "source": [
    "from mongojoin import MongoJoin\n",
    "from mongojoin import MongoCollection"
   ]
  },
  {
   "cell_type": "code",
   "execution_count": null,
   "id": "structural-classic",
   "metadata": {},
   "outputs": [],
   "source": [
    "!pipinstall process-data"
   ]
  },
  {
   "cell_type": "code",
   "execution_count": null,
   "id": "italian-diana",
   "metadata": {},
   "outputs": [],
   "source": [
    "collection = MongoCollection(\"db_name\",\"collection_name\",[\"collection_select_key_1\", \"collection_select_key_2\"], {filter_key : filter_value})"
   ]
  },
  {
   "cell_type": "code",
   "execution_count": null,
   "id": "wanted-muscle",
   "metadata": {},
   "outputs": [],
   "source": []
  }
 ],
 "metadata": {
  "kernelspec": {
   "display_name": "Python 3",
   "language": "python",
   "name": "python3"
  },
  "language_info": {
   "codemirror_mode": {
    "name": "ipython",
    "version": 3
   },
   "file_extension": ".py",
   "mimetype": "text/x-python",
   "name": "python",
   "nbconvert_exporter": "python",
   "pygments_lexer": "ipython3",
   "version": "3.6.10"
  }
 },
 "nbformat": 4,
 "nbformat_minor": 5
}
