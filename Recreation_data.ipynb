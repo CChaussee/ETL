{
 "cells": [
  {
   "cell_type": "code",
   "execution_count": 1,
   "metadata": {},
   "outputs": [],
   "source": [
    "import pymongo\n",
    "import pandas as pd"
   ]
  },
  {
   "cell_type": "code",
   "execution_count": 2,
   "metadata": {},
   "outputs": [],
   "source": [
    "conn = \"mongodb://localhost:27017\"\n",
    "client = pymongo.MongoClient(conn)"
   ]
  },
  {
   "cell_type": "code",
   "execution_count": 4,
   "metadata": {},
   "outputs": [],
   "source": [
    "db = client.recreation_db\n",
    "db.recreation.drop()"
   ]
  },
  {
   "cell_type": "code",
   "execution_count": 7,
   "metadata": {},
   "outputs": [
    {
     "data": {
      "text/html": [
       "<div>\n",
       "<style scoped>\n",
       "    .dataframe tbody tr th:only-of-type {\n",
       "        vertical-align: middle;\n",
       "    }\n",
       "\n",
       "    .dataframe tbody tr th {\n",
       "        vertical-align: top;\n",
       "    }\n",
       "\n",
       "    .dataframe thead th {\n",
       "        text-align: right;\n",
       "    }\n",
       "</style>\n",
       "<table border=\"1\" class=\"dataframe\">\n",
       "  <thead>\n",
       "    <tr style=\"text-align: right;\">\n",
       "      <th></th>\n",
       "      <th>park</th>\n",
       "      <th>facilitylatitude</th>\n",
       "      <th>facilitylongitude</th>\n",
       "      <th>nights</th>\n",
       "      <th>facilitystate</th>\n",
       "    </tr>\n",
       "  </thead>\n",
       "  <tbody>\n",
       "    <tr>\n",
       "      <th>0</th>\n",
       "      <td>White Mountains National Recreation Area - Ala...</td>\n",
       "      <td>65.427497</td>\n",
       "      <td>-147.243361</td>\n",
       "      <td>1 day</td>\n",
       "      <td>Alaska</td>\n",
       "    </tr>\n",
       "    <tr>\n",
       "      <th>1</th>\n",
       "      <td>White Mountains National Recreation Area - Ala...</td>\n",
       "      <td>65.427497</td>\n",
       "      <td>-147.243361</td>\n",
       "      <td>1 day</td>\n",
       "      <td>Alaska</td>\n",
       "    </tr>\n",
       "    <tr>\n",
       "      <th>2</th>\n",
       "      <td>White Mountains National Recreation Area - Ala...</td>\n",
       "      <td>65.427497</td>\n",
       "      <td>-147.243361</td>\n",
       "      <td>3 days</td>\n",
       "      <td>Alaska</td>\n",
       "    </tr>\n",
       "    <tr>\n",
       "      <th>3</th>\n",
       "      <td>White Mountains National Recreation Area - Ala...</td>\n",
       "      <td>65.427497</td>\n",
       "      <td>-147.243361</td>\n",
       "      <td>1 day</td>\n",
       "      <td>Alaska</td>\n",
       "    </tr>\n",
       "    <tr>\n",
       "      <th>4</th>\n",
       "      <td>White Mountains National Recreation Area - Ala...</td>\n",
       "      <td>65.427497</td>\n",
       "      <td>-147.243361</td>\n",
       "      <td>1 day</td>\n",
       "      <td>Alaska</td>\n",
       "    </tr>\n",
       "  </tbody>\n",
       "</table>\n",
       "</div>"
      ],
      "text/plain": [
       "                                                park  facilitylatitude  \\\n",
       "0  White Mountains National Recreation Area - Ala...         65.427497   \n",
       "1  White Mountains National Recreation Area - Ala...         65.427497   \n",
       "2  White Mountains National Recreation Area - Ala...         65.427497   \n",
       "3  White Mountains National Recreation Area - Ala...         65.427497   \n",
       "4  White Mountains National Recreation Area - Ala...         65.427497   \n",
       "\n",
       "   facilitylongitude  nights facilitystate  \n",
       "0        -147.243361   1 day        Alaska  \n",
       "1        -147.243361   1 day        Alaska  \n",
       "2        -147.243361  3 days        Alaska  \n",
       "3        -147.243361   1 day        Alaska  \n",
       "4        -147.243361   1 day        Alaska  "
      ]
     },
     "execution_count": 7,
     "metadata": {},
     "output_type": "execute_result"
    }
   ],
   "source": [
    "recreation_csv_file = \"2020_recreation_data_full.csv\"\n",
    "recreation_csv = pd.read_csv(recreation_csv_file)\n",
    "cleaned_recreation_csv = recreation_csv[[\"park\",\"facilitylatitude\",\"facilitylongitude\", \"nights\", \"facilitystate\"]]\n",
    "cleaned_recreation_csv.head()"
   ]
  },
  {
   "cell_type": "code",
   "execution_count": 15,
   "metadata": {},
   "outputs": [
    {
     "data": {
      "text/plain": [
       "<pymongo.results.InsertManyResult at 0x16ec5aee408>"
      ]
     },
     "execution_count": 15,
     "metadata": {},
     "output_type": "execute_result"
    }
   ],
   "source": [
    "recreation_output = []\n",
    "for index, row in recreation_csv.iterrows():\n",
    "    post={'park_name': str(row[\"park\"]),\n",
    "         'latitude': str(row[\"facilitylatitude\"]),\n",
    "         'longitude': str(row[\"facilitylongitude\"]),\n",
    "         'nights': str(row[\"nights\"]),\n",
    "         'state': str(row[\"facilitystate\"])}      \n",
    "    recreation_output.append(post)\n",
    "    \n",
    "db.recreation.insert_many(recreation_output)"
   ]
  },
  {
   "cell_type": "code",
   "execution_count": null,
   "metadata": {},
   "outputs": [],
   "source": []
  }
 ],
 "metadata": {
  "kernelspec": {
   "display_name": "Python 3",
   "language": "python",
   "name": "python3"
  },
  "language_info": {
   "codemirror_mode": {
    "name": "ipython",
    "version": 3
   },
   "file_extension": ".py",
   "mimetype": "text/x-python",
   "name": "python",
   "nbconvert_exporter": "python",
   "pygments_lexer": "ipython3",
   "version": "3.6.10"
  }
 },
 "nbformat": 4,
 "nbformat_minor": 4
}
